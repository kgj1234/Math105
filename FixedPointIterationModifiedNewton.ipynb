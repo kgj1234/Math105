{
 "cells": [
  {
   "cell_type": "markdown",
   "metadata": {},
   "source": [
    "# Fixed Points"
   ]
  },
  {
   "cell_type": "markdown",
   "metadata": {},
   "source": [
    "Recall that fixed points are points $p$ for which $f(p)=p$. A function $f:[a,b]\\rightarrow [a,b]$ will always have a fixed point, and we can prove uniqueness of that fixed point, if the derivative $|f'(x)|\\leq K<1$ on the interval $[a,b]$. If such is the case, we will have the estimate $|p_n-p|\\leq |p_0-p|K^n$, where $p_0$ is some element of $[a,b]$, and $K$ is an upper bound on the first derivative on the interval."
   ]
  },
  {
   "cell_type": "markdown",
   "metadata": {},
   "source": [
    "## Example: Find a fixed point of $f(x)=1+.5\\sin(x)$ on the interval [1.3,1.55], and tell how many iterations are required in order for the iterate $p_n$ to be within $10^{-8}$ of the fixed point $p$, given $p_0=1.3$."
   ]
  },
  {
   "cell_type": "markdown",
   "metadata": {},
   "source": [
    "First, we have that $f(1.3)=1.48$, $f(1.55)=1.49$. Additionally, the derivative of $f$ is $.5\\cos(x)$, which is positive on $[1.3,1.55]$ (as $\\pi/2=1.57$. Therefore, the function $f$ is increasing on the interval $[1.3,1.55]$, and it therefore maps the interval to itself. Additionally, the maximum value of the derivative is $.5$. We could use this as our $k$ value, or we could not that $\\cos(x)$ is decreasing and positive on the interval, (as it decreases on $[0,\\pi]$ and is positive on $[0,\\pi/2]$), and hence the largest value of $|f'|$ on the interval is $|f'(1.3)|=.13$."
   ]
  },
  {
   "cell_type": "code",
   "execution_count": 1,
   "metadata": {
    "collapsed": false
   },
   "outputs": [
    {
     "data": {
      "image/png": "[encoded data removed]",
      "text/plain": [
       "<matplotlib.figure.Figure at 0x7fa808ff1518>"
      ]
     },
     "metadata": {},
     "output_type": "display_data"
    }
   ],
   "source": [
    "import numpy as np\n",
    "from matplotlib import pyplot as plt\n",
    "x=np.linspace(0,np.pi/2,1000)\n",
    "y1=1+.5*np.sin(x)\n",
    "y2=.5*np.cos(x)\n",
    "fig,ax=plt.subplots(2)\n",
    "ax[0].plot(x,y1,label='f(x)')\n",
    "ax[0].plot(x,x,label='line y=x')\n",
    "ax[0].legend(loc='best')\n",
    "ax[1].plot(x,y2,label=\"f'(x)\")\n",
    "ax[1].legend()\n",
    "\n",
    "plt.show()"
   ]
  },
  {
   "cell_type": "markdown",
   "metadata": {},
   "source": [
    "The fixed point is the $x$ value for which the curves $f(x)$ and $y=x$ intersect."
   ]
  },
  {
   "cell_type": "markdown",
   "metadata": {},
   "source": [
    "Since we have satisfied the conditions of the theorem, we are guaranteed that the iterates converge."
   ]
  },
  {
   "cell_type": "markdown",
   "metadata": {},
   "source": [
    "$p_0=1.3$\n",
    "\n",
    "$p_1=1+.5\\cos(1.3)=1.4817790927085965$\n",
    "\n",
    "$p_2=1+.5\\cos(1.4817790927085965)=1.498020290806201$\n",
    "\n",
    "\n",
    "Actual Value $ 1.49870113351785$."
   ]
  },
  {
   "cell_type": "code",
   "execution_count": 4,
   "metadata": {
    "collapsed": false
   },
   "outputs": [
    {
     "name": "stdout",
     "output_type": "stream",
     "text": [
      "iteration:  0 value 1.3 error 0.1987011335178499\n",
      "iteration:  1 value 1.48177909271 error 0.0169220408093\n",
      "iteration:  2 value 1.49802029081 error 0.000680842711649\n",
      "iteration:  3 value 1.49867649645 error 2.46370716892e-05\n",
      "iteration:  4 value 1.49870024603 error 8.87489421286e-07\n",
      "iteration:  5 value 1.49870110155 error 3.19643518321e-08\n",
      "iteration:  6 value 1.49870113237 error 1.15124199063e-09\n"
     ]
    }
   ],
   "source": [
    "def f(x):\n",
    "    return 1+.5*np.sin(x)\n",
    "error=1\n",
    "x=1.3\n",
    "iteration=0\n",
    "while error>10**(-8):\n",
    "    error=(abs(x-1.49870113351785))\n",
    "    print('iteration: ',iteration,'value',x,'error',error)\n",
    "    iteration=iteration+1\n",
    "    x=f(x)\n"
   ]
  },
  {
   "cell_type": "markdown",
   "metadata": {},
   "source": [
    "Here we took 6 iterations to get to the required accuracy. Using the the error equation, we have $|p_n-p|\\leq K^n|p_0-p|\\leq K^n|1.55-1.3|=(.13)^n(.25)$. The first $n$ for which this is less than $10^{-8}$ is $9$. Thus, this error equation tells us that it will take at most $9$ iterations to converge to the desired accuracy, $3$ more than what was actually necessary."
   ]
  },
  {
   "cell_type": "markdown",
   "metadata": {},
   "source": [
    "# Special Cases: "
   ]
  },
  {
   "cell_type": "markdown",
   "metadata": {},
   "source": [
    "In the case where the first derivative of the function at the fixed point is $0$, we actually obtain quadratic convergence. "
   ]
  },
  {
   "cell_type": "markdown",
   "metadata": {},
   "source": [
    "## Example: suppose that $f(x)=x^2$, and consider the interval $[-1/4,1/4]$. Find the number of iterations required to converge to the fixed point $0$, if $p_0=1/4$, within $10^{-8}$, using fixed point iteration.\n"
   ]
  },
  {
   "cell_type": "markdown",
   "metadata": {},
   "source": [
    "Note that $f:[-1/4,1/4]\\rightarrow [-1/4,1/4]$, and $|f'(x)|=|2x|\\leq 1/2$ on the interval $[-1/4,1/4]$, so we know we will converge to a unique fixed point using fixed point iteration. We can let $K=1/2$, as this is an upper bound on the first derivative. The equation gives\n",
    "\n",
    "$|p_n-0|=|p_n|\\leq (1/2)^n(1/4-0)=1/2^{n+2}$\n",
    "\n",
    "Note in this case, since we actually know the fixed point, we don't have to estimate $|p_0-p|$ using the entire width of the interval, which decreases the number of iterations the formula will require. Choosing $n=26$, we see that at most $26$ iterations would be required to give convergence to within the error margin."
   ]
  },
  {
   "cell_type": "markdown",
   "metadata": {},
   "source": [
    "In this case, the derivative is $0$ at the fixed point, therefore, we can actually expect quadratic convergence."
   ]
  },
  {
   "cell_type": "code",
   "execution_count": 5,
   "metadata": {
    "collapsed": false
   },
   "outputs": [
    {
     "name": "stdout",
     "output_type": "stream",
     "text": [
      "iteration:  0 value 0.25 error 0.25\n",
      "iteration:  1 value 0.0625 error 0.0625\n",
      "iteration:  2 value 0.00390625 error 0.00390625\n",
      "iteration:  3 value 1.52587890625e-05 error 1.52587890625e-05\n",
      "iteration:  4 value 2.3283064365386963e-10 error 2.3283064365386963e-10\n"
     ]
    }
   ],
   "source": [
    "def f(x):\n",
    "    return x**2\n",
    "error=1\n",
    "x=.25\n",
    "iteration=0\n",
    "while error>10**(-8):\n",
    "    error=(abs(x))\n",
    "    print('iteration: ',iteration,'value',x,'error',error)\n",
    "    iteration=iteration+1\n",
    "    x=f(x)\n"
   ]
  },
  {
   "cell_type": "markdown",
   "metadata": {},
   "source": [
    "In fact, it only took 4 iterations to determine the fixed point to within $10^{-8}$. "
   ]
  },
  {
   "cell_type": "markdown",
   "metadata": {},
   "source": [
    "# Modified Newtons Method"
   ]
  },
  {
   "cell_type": "markdown",
   "metadata": {},
   "source": [
    "If a function $f$ has a root of order n at a point $p$, that is $f^{i}(p)=0, 0\\leq i<n$, and $f^n(p)\\neq 0$, Newton's method may not give quadratic convergence as expected. Sometimes we can modify Newton's method slightly, by letting $u(x)=\\frac{f(x)}{f'(x)}$, (which has the property that $\\lim_{x\\rightarrow p}u(x)=0$). Applying Newton's method to $u(x)$ can lead to convergence to the root of $f$, because it is also a \"root\" of $u$."
   ]
  },
  {
   "cell_type": "markdown",
   "metadata": {},
   "source": [
    "## Example: Let $f(x)=\\sin^2(x)$, so that $p=0$, and let $p_0=.5$."
   ]
  },
  {
   "cell_type": "markdown",
   "metadata": {},
   "source": [
    "Here we have a root of order 2 at $0$, so taking $u(x)=\\frac{\\sin^2(x)}{2\\sin(x)\\cos(x)}=1/2\\tan(x)$, we have that $u(x)/u'(x)$ is $\\frac{.5\\tan(x)}{.5\\sec^2(x)}=\\sin(x)\\cos(x)$. Applying Newton's method to this function, we will hopefully converge to the root of $f$(specifically the root at $0$)."
   ]
  },
  {
   "cell_type": "code",
   "execution_count": 7,
   "metadata": {
    "collapsed": false
   },
   "outputs": [
    {
     "name": "stdout",
     "output_type": "stream",
     "text": [
      "iteration:  0 value 0.5 error 0.5\n",
      "iteration:  1 value 0.0792645075961 error 0.0792645075961\n",
      "iteration:  2 value 0.000331588377988 error 0.000331588377988\n",
      "iteration:  3 value 2.43056159509e-11 error 2.43056159509e-11\n",
      "iteration:  4 value 0.0 error 0.0\n",
      "iteration:  5 value 0.0 error 0.0\n"
     ]
    }
   ],
   "source": [
    "def f(x):\n",
    "    return x-np.sin(x)*np.cos(x)\n",
    "error=1\n",
    "x=.5\n",
    "iteration=0\n",
    "while iteration<6:\n",
    "    error=(abs(x))\n",
    "    print('iteration: ',iteration,'value',x,'error',error)\n",
    "    iteration=iteration+1\n",
    "    x=f(x)"
   ]
  },
  {
   "cell_type": "markdown",
   "metadata": {},
   "source": [
    "Within $4$ iterations, the computer can no longer distinguish the iterate from $0$."
   ]
  },
  {
   "cell_type": "code",
   "execution_count": null,
   "metadata": {
    "collapsed": true
   },
   "outputs": [],
   "source": []
  }
 ],
 "metadata": {
  "anaconda-cloud": {},
  "kernelspec": {
   "display_name": "Python [default]",
   "language": "python",
   "name": "python3"
  },
  "language_info": {
   "codemirror_mode": {
    "name": "ipython",
    "version": 3
   },
   "file_extension": ".py",
   "mimetype": "text/x-python",
   "name": "python",
   "nbconvert_exporter": "python",
   "pygments_lexer": "ipython3",
   "version": "3.5.2"
  }
 },
 "nbformat": 4,
 "nbformat_minor": 1
}
